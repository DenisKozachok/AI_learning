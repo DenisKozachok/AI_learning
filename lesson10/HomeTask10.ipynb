{
 "cells": [
  {
   "cell_type": "markdown",
   "id": "b9c34254-d04b-4958-9ff0-c96605b1ca3d",
   "metadata": {},
   "source": [
    "Homework 10\n",
    "In this homework, you are going to use and compare two different trackers (of your liking) and compare the results."
   ]
  },
  {
   "cell_type": "markdown",
   "source": [
    "Step 1\n",
    "Decide what video you are going to use for this homework, select an object and generate the template. You can use any video you want (your own, from Youtube, etc.) and track any object you want (e.g. a car, a pedestrian, etc.)."
   ],
   "metadata": {
    "collapsed": false
   },
   "id": "8016b9d80a58667e"
  },
  {
   "cell_type": "markdown",
   "source": [
    "Step 2\n",
    "Initialize a tracker (e.g. KCF)."
   ],
   "metadata": {
    "collapsed": false
   },
   "id": "ec69f00e8f357144"
  },
  {
   "cell_type": "code",
   "execution_count": null,
   "id": "e7093a98-8ce2-4525-883f-f6d0f7114cf5",
   "metadata": {},
   "outputs": [],
   "source": [
    "from IPython.display import display, Image\n",
    "import matplotlib.pyplot as plt\n",
    "import cv2\n",
    "import io"
   ]
  },
  {
   "cell_type": "code",
   "execution_count": null,
   "id": "3b4b30d8-3fa2-42b5-aa78-8a3d831fac08",
   "metadata": {},
   "outputs": [],
   "source": [
    "cap = cv2.VideoCapture('D:\\AI_learning\\images\\hightway2.mp4')\n",
    "\n",
    "tracker = cv2.TrackerKCF_create()\n",
    "\n",
    "success, frame = cap.read()\n",
    "if not success:\n",
    "    print(\"Failed to read video\")\n",
    "    exit()\n",
    "\n",
    "# (x, y, width, height)\n",
    "bbox = (1450, 800, 100, 100)\n",
    "\n",
    "ok = tracker.init(frame, bbox)\n"
   ]
  },
  {
   "cell_type": "markdown",
   "id": "5752e66b-4ec7-4845-b44f-9ba9120b81e9",
   "metadata": {},
   "source": [
    "Step 3\n",
    "Run the tracker on the video and the selected object. Run the tracker for around 10-15 frames."
   ]
  },
  {
   "cell_type": "code",
   "execution_count": null,
   "id": "f110750e-d0c3-41e4-8d5d-a0a342e4ee78",
   "metadata": {},
   "outputs": [],
   "source": [
    "for i in range(15):\n",
    "    success, frame = cap.read()\n",
    "    if not success:\n",
    "        break\n",
    "\n",
    "    ok, bbox = tracker.update(frame)\n",
    "\n",
    "    if ok:\n",
    "        p1 = (int(bbox[0]), int(bbox[1]))\n",
    "        p2 = (int(bbox[0] + bbox[2]), int(bbox[1] + bbox[3]))\n",
    "        cv2.rectangle(frame, p1, p2, (255,0,0), 2, 1)\n",
    "    else:\n",
    "        cv2.putText(frame, \"Tracking failure detected\", (100,80), cv2.FONT_HERSHEY_SIMPLEX, 0.75, (0,0,255),2)\n",
    "\n",
    "    cv2.imwrite(f'frame_{i}.jpg', frame)\n",
    "    plt.imshow(frame)\n",
    "    plt.show()\n",
    "cap.release()\n"
   ]
  },
  {
   "cell_type": "markdown",
   "id": "522c69ba-1b71-4aaf-b0d9-2a227c739e92",
   "metadata": {},
   "source": [
    "Step 4\n",
    "For each frame, print the bounding box on the image and save it."
   ]
  },
  {
   "cell_type": "markdown",
   "id": "17fa0870-a919-4d98-84ce-3d002796dd0d",
   "metadata": {},
   "source": [
    "Step 5\n",
    "Select a different tracker (e.g. CSRT) and repeat steps 2, 3 and 4."
   ]
  },
  {
   "cell_type": "markdown",
   "id": "8a7c0961-9c60-4a16-9ad4-39ada29b6481",
   "metadata": {},
   "source": [
    "Step 6\n",
    "Compare the results:\n",
    "\n",
    "Do you see any differences? If so, what are they?\n",
    "Does one tracker perform better than the other? In what way?"
   ]
  },
  {
   "cell_type": "code",
   "execution_count": null,
   "id": "d7b57670-7243-4acf-a2f1-865bd4d4b7ce",
   "metadata": {},
   "outputs": [],
   "source": []
  }
 ],
 "metadata": {
  "kernelspec": {
   "display_name": "Python 3 (ipykernel)",
   "language": "python",
   "name": "python3"
  },
  "language_info": {
   "codemirror_mode": {
    "name": "ipython",
    "version": 3
   },
   "file_extension": ".py",
   "mimetype": "text/x-python",
   "name": "python",
   "nbconvert_exporter": "python",
   "pygments_lexer": "ipython3",
   "version": "3.11.7"
  }
 },
 "nbformat": 4,
 "nbformat_minor": 5
}
